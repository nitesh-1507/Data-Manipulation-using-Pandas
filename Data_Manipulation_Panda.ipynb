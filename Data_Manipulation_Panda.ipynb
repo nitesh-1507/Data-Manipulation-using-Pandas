{
 "cells": [
  {
   "cell_type": "markdown",
   "metadata": {},
   "source": [
    "# Data Manipulation using Panda"
   ]
  },
  {
   "cell_type": "raw",
   "metadata": {},
   "source": [
    "## Data-Set Variable description\n",
    "\n",
    "1) id1 - Wind speed\n",
    "2) id2 - Nacelle position\n",
    "3) id3 - Wind Direction\n",
    "4) id11 - Generator Speed\n",
    "5) id65 - Turbine Blade Angle1\n",
    "6) id66 - Turbine Blade Angle2\n",
    "7) id67 - Turbine Blade Angle3\n",
    "8) id32 - Active Power\n",
    "9) id39 - Ambient Temperature\n",
    "10) id115 - Power Limitation\n",
    "11) id118 - Time\n",
    "12) id121 - Turbine state"
   ]
  },
  {
   "cell_type": "code",
   "execution_count": 1,
   "metadata": {},
   "outputs": [],
   "source": [
    "import pandas as pd"
   ]
  },
  {
   "cell_type": "code",
   "execution_count": 5,
   "metadata": {},
   "outputs": [],
   "source": [
    "## Importing data file\n",
    "\n",
    "data = pd.read_csv('C:/Users/NITESH/Desktop/ESS/data.csv')"
   ]
  },
  {
   "cell_type": "code",
   "execution_count": 6,
   "metadata": {},
   "outputs": [
    {
     "data": {
      "text/html": [
       "<div>\n",
       "<style scoped>\n",
       "    .dataframe tbody tr th:only-of-type {\n",
       "        vertical-align: middle;\n",
       "    }\n",
       "\n",
       "    .dataframe tbody tr th {\n",
       "        vertical-align: top;\n",
       "    }\n",
       "\n",
       "    .dataframe thead th {\n",
       "        text-align: right;\n",
       "    }\n",
       "</style>\n",
       "<table border=\"1\" class=\"dataframe\">\n",
       "  <thead>\n",
       "    <tr style=\"text-align: right;\">\n",
       "      <th></th>\n",
       "      <th>id121</th>\n",
       "      <th>id1</th>\n",
       "      <th>id2</th>\n",
       "      <th>id3</th>\n",
       "      <th>id4</th>\n",
       "      <th>id5</th>\n",
       "      <th>id6</th>\n",
       "      <th>id7</th>\n",
       "      <th>id8</th>\n",
       "      <th>id9</th>\n",
       "      <th>...</th>\n",
       "      <th>id182</th>\n",
       "      <th>id183</th>\n",
       "      <th>id184</th>\n",
       "      <th>id185</th>\n",
       "      <th>id186</th>\n",
       "      <th>id187</th>\n",
       "      <th>id188</th>\n",
       "      <th>id189</th>\n",
       "      <th>id190</th>\n",
       "      <th>id191</th>\n",
       "    </tr>\n",
       "  </thead>\n",
       "  <tbody>\n",
       "    <tr>\n",
       "      <th>0</th>\n",
       "      <td>5</td>\n",
       "      <td>2.80</td>\n",
       "      <td>145.05</td>\n",
       "      <td>-6.39</td>\n",
       "      <td>-0.05</td>\n",
       "      <td>1717.76</td>\n",
       "      <td>1717.76</td>\n",
       "      <td>1717.76</td>\n",
       "      <td>10783</td>\n",
       "      <td>172.29</td>\n",
       "      <td>...</td>\n",
       "      <td>1500_fr_v170715</td>\n",
       "      <td>xx40.3_fr_1500_v20170712</td>\n",
       "      <td>0</td>\n",
       "      <td>111170816</td>\n",
       "      <td>com_1500_std_v3.0.r0704</td>\n",
       "      <td>6.1</td>\n",
       "      <td>3.1</td>\n",
       "      <td>6.0</td>\n",
       "      <td>2</td>\n",
       "      <td>10</td>\n",
       "    </tr>\n",
       "    <tr>\n",
       "      <th>1</th>\n",
       "      <td>5</td>\n",
       "      <td>2.89</td>\n",
       "      <td>145.05</td>\n",
       "      <td>-6.57</td>\n",
       "      <td>-0.05</td>\n",
       "      <td>1717.76</td>\n",
       "      <td>1717.76</td>\n",
       "      <td>1717.76</td>\n",
       "      <td>10783</td>\n",
       "      <td>171.06</td>\n",
       "      <td>...</td>\n",
       "      <td>1500_fr_v170715</td>\n",
       "      <td>xx40.3_fr_1500_v20170712</td>\n",
       "      <td>0</td>\n",
       "      <td>111170816</td>\n",
       "      <td>com_1500_std_v3.0.r0704</td>\n",
       "      <td>6.1</td>\n",
       "      <td>3.1</td>\n",
       "      <td>6.0</td>\n",
       "      <td>2</td>\n",
       "      <td>10</td>\n",
       "    </tr>\n",
       "    <tr>\n",
       "      <th>2</th>\n",
       "      <td>5</td>\n",
       "      <td>2.67</td>\n",
       "      <td>146.28</td>\n",
       "      <td>-6.92</td>\n",
       "      <td>0.00</td>\n",
       "      <td>1717.76</td>\n",
       "      <td>1717.76</td>\n",
       "      <td>1717.76</td>\n",
       "      <td>10783</td>\n",
       "      <td>169.33</td>\n",
       "      <td>...</td>\n",
       "      <td>1500_fr_v170715</td>\n",
       "      <td>xx40.3_fr_1500_v20170712</td>\n",
       "      <td>0</td>\n",
       "      <td>111170816</td>\n",
       "      <td>com_1500_std_v3.0.r0704</td>\n",
       "      <td>6.1</td>\n",
       "      <td>3.1</td>\n",
       "      <td>6.0</td>\n",
       "      <td>2</td>\n",
       "      <td>10</td>\n",
       "    </tr>\n",
       "    <tr>\n",
       "      <th>3</th>\n",
       "      <td>5</td>\n",
       "      <td>2.88</td>\n",
       "      <td>147.51</td>\n",
       "      <td>-6.99</td>\n",
       "      <td>0.04</td>\n",
       "      <td>1717.76</td>\n",
       "      <td>1717.76</td>\n",
       "      <td>1717.76</td>\n",
       "      <td>10783</td>\n",
       "      <td>175.91</td>\n",
       "      <td>...</td>\n",
       "      <td>1500_fr_v170715</td>\n",
       "      <td>xx40.3_fr_1500_v20170712</td>\n",
       "      <td>0</td>\n",
       "      <td>111170816</td>\n",
       "      <td>com_1500_std_v3.0.r0704</td>\n",
       "      <td>6.1</td>\n",
       "      <td>3.1</td>\n",
       "      <td>6.0</td>\n",
       "      <td>2</td>\n",
       "      <td>10</td>\n",
       "    </tr>\n",
       "    <tr>\n",
       "      <th>4</th>\n",
       "      <td>5</td>\n",
       "      <td>2.90</td>\n",
       "      <td>147.51</td>\n",
       "      <td>-7.14</td>\n",
       "      <td>0.04</td>\n",
       "      <td>1717.76</td>\n",
       "      <td>1717.76</td>\n",
       "      <td>1717.76</td>\n",
       "      <td>10783</td>\n",
       "      <td>169.30</td>\n",
       "      <td>...</td>\n",
       "      <td>1500_fr_v170715</td>\n",
       "      <td>xx40.3_fr_1500_v20170712</td>\n",
       "      <td>0</td>\n",
       "      <td>111170816</td>\n",
       "      <td>com_1500_std_v3.0.r0704</td>\n",
       "      <td>6.1</td>\n",
       "      <td>3.1</td>\n",
       "      <td>6.0</td>\n",
       "      <td>2</td>\n",
       "      <td>10</td>\n",
       "    </tr>\n",
       "  </tbody>\n",
       "</table>\n",
       "<p>5 rows × 189 columns</p>\n",
       "</div>"
      ],
      "text/plain": [
       "   id121   id1     id2   id3   id4      id5      id6      id7    id8     id9  \\\n",
       "0      5  2.80  145.05 -6.39 -0.05  1717.76  1717.76  1717.76  10783  172.29   \n",
       "1      5  2.89  145.05 -6.57 -0.05  1717.76  1717.76  1717.76  10783  171.06   \n",
       "2      5  2.67  146.28 -6.92  0.00  1717.76  1717.76  1717.76  10783  169.33   \n",
       "3      5  2.88  147.51 -6.99  0.04  1717.76  1717.76  1717.76  10783  175.91   \n",
       "4      5  2.90  147.51 -7.14  0.04  1717.76  1717.76  1717.76  10783  169.30   \n",
       "\n",
       "   ...              id182                     id183  id184      id185  \\\n",
       "0  ...    1500_fr_v170715  xx40.3_fr_1500_v20170712      0  111170816   \n",
       "1  ...    1500_fr_v170715  xx40.3_fr_1500_v20170712      0  111170816   \n",
       "2  ...    1500_fr_v170715  xx40.3_fr_1500_v20170712      0  111170816   \n",
       "3  ...    1500_fr_v170715  xx40.3_fr_1500_v20170712      0  111170816   \n",
       "4  ...    1500_fr_v170715  xx40.3_fr_1500_v20170712      0  111170816   \n",
       "\n",
       "                     id186  id187  id188  id189  id190  id191  \n",
       "0  com_1500_std_v3.0.r0704    6.1    3.1    6.0      2     10  \n",
       "1  com_1500_std_v3.0.r0704    6.1    3.1    6.0      2     10  \n",
       "2  com_1500_std_v3.0.r0704    6.1    3.1    6.0      2     10  \n",
       "3  com_1500_std_v3.0.r0704    6.1    3.1    6.0      2     10  \n",
       "4  com_1500_std_v3.0.r0704    6.1    3.1    6.0      2     10  \n",
       "\n",
       "[5 rows x 189 columns]"
      ]
     },
     "execution_count": 6,
     "metadata": {},
     "output_type": "execute_result"
    }
   ],
   "source": [
    "## Displaying data\n",
    "\n",
    "data.head()"
   ]
  },
  {
   "cell_type": "code",
   "execution_count": 11,
   "metadata": {},
   "outputs": [
    {
     "data": {
      "text/plain": [
       "(12106, 189)"
      ]
     },
     "execution_count": 11,
     "metadata": {},
     "output_type": "execute_result"
    }
   ],
   "source": [
    "# Displaying data shape\n",
    "\n",
    "data.shape"
   ]
  },
  {
   "cell_type": "code",
   "execution_count": 13,
   "metadata": {},
   "outputs": [],
   "source": [
    "# Filtering data for important variables\n",
    "\n",
    "columns = ['id1','id2','id3','id11','id32','id118']\n",
    "data=data[columns]"
   ]
  },
  {
   "cell_type": "code",
   "execution_count": 17,
   "metadata": {},
   "outputs": [
    {
     "data": {
      "text/html": [
       "<div>\n",
       "<style scoped>\n",
       "    .dataframe tbody tr th:only-of-type {\n",
       "        vertical-align: middle;\n",
       "    }\n",
       "\n",
       "    .dataframe tbody tr th {\n",
       "        vertical-align: top;\n",
       "    }\n",
       "\n",
       "    .dataframe thead th {\n",
       "        text-align: right;\n",
       "    }\n",
       "</style>\n",
       "<table border=\"1\" class=\"dataframe\">\n",
       "  <thead>\n",
       "    <tr style=\"text-align: right;\">\n",
       "      <th></th>\n",
       "      <th>id1</th>\n",
       "      <th>id2</th>\n",
       "      <th>id3</th>\n",
       "      <th>id11</th>\n",
       "      <th>id32</th>\n",
       "      <th>id118</th>\n",
       "    </tr>\n",
       "  </thead>\n",
       "  <tbody>\n",
       "    <tr>\n",
       "      <th>0</th>\n",
       "      <td>2.80</td>\n",
       "      <td>145.05</td>\n",
       "      <td>-6.39</td>\n",
       "      <td>10.14</td>\n",
       "      <td>16.10</td>\n",
       "      <td>2018-03-21T00:00:01Z</td>\n",
       "    </tr>\n",
       "    <tr>\n",
       "      <th>1</th>\n",
       "      <td>2.89</td>\n",
       "      <td>145.05</td>\n",
       "      <td>-6.57</td>\n",
       "      <td>9.91</td>\n",
       "      <td>19.52</td>\n",
       "      <td>2018-03-21T00:00:06Z</td>\n",
       "    </tr>\n",
       "    <tr>\n",
       "      <th>2</th>\n",
       "      <td>2.67</td>\n",
       "      <td>146.28</td>\n",
       "      <td>-6.92</td>\n",
       "      <td>9.95</td>\n",
       "      <td>20.38</td>\n",
       "      <td>2018-03-21T00:00:14Z</td>\n",
       "    </tr>\n",
       "    <tr>\n",
       "      <th>3</th>\n",
       "      <td>2.88</td>\n",
       "      <td>147.51</td>\n",
       "      <td>-6.99</td>\n",
       "      <td>9.91</td>\n",
       "      <td>19.52</td>\n",
       "      <td>2018-03-21T00:00:21Z</td>\n",
       "    </tr>\n",
       "    <tr>\n",
       "      <th>4</th>\n",
       "      <td>2.90</td>\n",
       "      <td>147.51</td>\n",
       "      <td>-7.14</td>\n",
       "      <td>9.93</td>\n",
       "      <td>26.36</td>\n",
       "      <td>2018-03-21T00:00:28Z</td>\n",
       "    </tr>\n",
       "  </tbody>\n",
       "</table>\n",
       "</div>"
      ],
      "text/plain": [
       "    id1     id2   id3   id11   id32                 id118\n",
       "0  2.80  145.05 -6.39  10.14  16.10  2018-03-21T00:00:01Z\n",
       "1  2.89  145.05 -6.57   9.91  19.52  2018-03-21T00:00:06Z\n",
       "2  2.67  146.28 -6.92   9.95  20.38  2018-03-21T00:00:14Z\n",
       "3  2.88  147.51 -6.99   9.91  19.52  2018-03-21T00:00:21Z\n",
       "4  2.90  147.51 -7.14   9.93  26.36  2018-03-21T00:00:28Z"
      ]
     },
     "execution_count": 17,
     "metadata": {},
     "output_type": "execute_result"
    }
   ],
   "source": [
    "data.head()"
   ]
  },
  {
   "cell_type": "code",
   "execution_count": 19,
   "metadata": {},
   "outputs": [],
   "source": [
    "# Changing column names for simplicity\n",
    "\n",
    "data.columns=['wind_speed','nac_position','wind_direction','generator_speed','active_power','time']"
   ]
  },
  {
   "cell_type": "code",
   "execution_count": 20,
   "metadata": {},
   "outputs": [
    {
     "data": {
      "text/html": [
       "<div>\n",
       "<style scoped>\n",
       "    .dataframe tbody tr th:only-of-type {\n",
       "        vertical-align: middle;\n",
       "    }\n",
       "\n",
       "    .dataframe tbody tr th {\n",
       "        vertical-align: top;\n",
       "    }\n",
       "\n",
       "    .dataframe thead th {\n",
       "        text-align: right;\n",
       "    }\n",
       "</style>\n",
       "<table border=\"1\" class=\"dataframe\">\n",
       "  <thead>\n",
       "    <tr style=\"text-align: right;\">\n",
       "      <th></th>\n",
       "      <th>wind_speed</th>\n",
       "      <th>nac_position</th>\n",
       "      <th>wind_direction</th>\n",
       "      <th>generator_speed</th>\n",
       "      <th>active_power</th>\n",
       "      <th>time</th>\n",
       "    </tr>\n",
       "  </thead>\n",
       "  <tbody>\n",
       "    <tr>\n",
       "      <th>0</th>\n",
       "      <td>2.80</td>\n",
       "      <td>145.05</td>\n",
       "      <td>-6.39</td>\n",
       "      <td>10.14</td>\n",
       "      <td>16.10</td>\n",
       "      <td>2018-03-21T00:00:01Z</td>\n",
       "    </tr>\n",
       "    <tr>\n",
       "      <th>1</th>\n",
       "      <td>2.89</td>\n",
       "      <td>145.05</td>\n",
       "      <td>-6.57</td>\n",
       "      <td>9.91</td>\n",
       "      <td>19.52</td>\n",
       "      <td>2018-03-21T00:00:06Z</td>\n",
       "    </tr>\n",
       "    <tr>\n",
       "      <th>2</th>\n",
       "      <td>2.67</td>\n",
       "      <td>146.28</td>\n",
       "      <td>-6.92</td>\n",
       "      <td>9.95</td>\n",
       "      <td>20.38</td>\n",
       "      <td>2018-03-21T00:00:14Z</td>\n",
       "    </tr>\n",
       "    <tr>\n",
       "      <th>3</th>\n",
       "      <td>2.88</td>\n",
       "      <td>147.51</td>\n",
       "      <td>-6.99</td>\n",
       "      <td>9.91</td>\n",
       "      <td>19.52</td>\n",
       "      <td>2018-03-21T00:00:21Z</td>\n",
       "    </tr>\n",
       "    <tr>\n",
       "      <th>4</th>\n",
       "      <td>2.90</td>\n",
       "      <td>147.51</td>\n",
       "      <td>-7.14</td>\n",
       "      <td>9.93</td>\n",
       "      <td>26.36</td>\n",
       "      <td>2018-03-21T00:00:28Z</td>\n",
       "    </tr>\n",
       "  </tbody>\n",
       "</table>\n",
       "</div>"
      ],
      "text/plain": [
       "   wind_speed  nac_position  wind_direction  generator_speed  active_power  \\\n",
       "0        2.80        145.05           -6.39            10.14         16.10   \n",
       "1        2.89        145.05           -6.57             9.91         19.52   \n",
       "2        2.67        146.28           -6.92             9.95         20.38   \n",
       "3        2.88        147.51           -6.99             9.91         19.52   \n",
       "4        2.90        147.51           -7.14             9.93         26.36   \n",
       "\n",
       "                   time  \n",
       "0  2018-03-21T00:00:01Z  \n",
       "1  2018-03-21T00:00:06Z  \n",
       "2  2018-03-21T00:00:14Z  \n",
       "3  2018-03-21T00:00:21Z  \n",
       "4  2018-03-21T00:00:28Z  "
      ]
     },
     "execution_count": 20,
     "metadata": {},
     "output_type": "execute_result"
    }
   ],
   "source": [
    "data.head()"
   ]
  },
  {
   "cell_type": "raw",
   "metadata": {},
   "source": [
    "## Some tools to access data\n",
    "\n",
    "1) data['variable name'] - Displays data of variables supplied\n",
    "2) data.loc[row_name, colname] - Displays data corresponding to row name and column name\n",
    "3) data.iloc[row_number, column_number]"
   ]
  },
  {
   "cell_type": "code",
   "execution_count": 26,
   "metadata": {},
   "outputs": [
    {
     "data": {
      "text/plain": [
       "0    2.80\n",
       "1    2.89\n",
       "2    2.67\n",
       "3    2.88\n",
       "4    2.90\n",
       "Name: wind_speed, dtype: float64"
      ]
     },
     "execution_count": 26,
     "metadata": {},
     "output_type": "execute_result"
    }
   ],
   "source": [
    "data['wind_speed'].head()"
   ]
  },
  {
   "cell_type": "code",
   "execution_count": 27,
   "metadata": {},
   "outputs": [
    {
     "data": {
      "text/plain": [
       "2.88"
      ]
     },
     "execution_count": 27,
     "metadata": {},
     "output_type": "execute_result"
    }
   ],
   "source": [
    "data.loc[3,'wind_speed']"
   ]
  },
  {
   "cell_type": "code",
   "execution_count": 28,
   "metadata": {},
   "outputs": [
    {
     "data": {
      "text/plain": [
       "2.88"
      ]
     },
     "execution_count": 28,
     "metadata": {},
     "output_type": "execute_result"
    }
   ],
   "source": [
    "data.iloc[3,0]"
   ]
  },
  {
   "cell_type": "code",
   "execution_count": null,
   "metadata": {},
   "outputs": [],
   "source": []
  }
 ],
 "metadata": {
  "kernelspec": {
   "display_name": "Python 3",
   "language": "python",
   "name": "python3"
  },
  "language_info": {
   "codemirror_mode": {
    "name": "ipython",
    "version": 3
   },
   "file_extension": ".py",
   "mimetype": "text/x-python",
   "name": "python",
   "nbconvert_exporter": "python",
   "pygments_lexer": "ipython3",
   "version": "3.7.1"
  }
 },
 "nbformat": 4,
 "nbformat_minor": 2
}
